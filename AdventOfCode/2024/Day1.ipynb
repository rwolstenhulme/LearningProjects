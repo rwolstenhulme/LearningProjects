{
 "cells": [
  {
   "cell_type": "markdown",
   "id": "4e1401df",
   "metadata": {},
   "source": [
    "--- Day 1: Historian Hysteria ---\n",
    "\n",
    "The Chief Historian is always present for the big Christmas sleigh launch, but nobody has seen him in months! Last anyone heard, he was visiting locations that are historically significant to the North Pole; a group of Senior Historians has asked you to accompany them as they check the places they think he was most likely to visit.\n",
    "\n",
    "As each location is checked, they will mark it on their list with a star. They figure the Chief Historian must be in one of the first fifty places they'll look, so in order to save Christmas, you need to help them get fifty stars on their list before Santa takes off on December 25th.\n",
    "\n",
    "Collect stars by solving puzzles. Two puzzles will be made available on each day in the Advent calendar; the second puzzle is unlocked when you complete the first. Each puzzle grants one star. Good luck!\n",
    "\n",
    "You haven't even left yet and the group of Elvish Senior Historians has already hit a problem: their list of locations to check is currently empty. Eventually, someone decides that the best place to check first would be the Chief Historian's office.\n",
    "\n",
    "Upon pouring into the office, everyone confirms that the Chief Historian is indeed nowhere to be found. Instead, the Elves discover an assortment of notes and lists of historically significant locations! This seems to be the planning the Chief Historian was doing before he left. Perhaps these notes can be used to determine which locations to search?\n",
    "\n",
    "Throughout the Chief's office, the historically significant locations are listed not by name but by a unique number called the location ID. To make sure they don't miss anything, The Historians split into two groups, each searching the office and trying to create their own complete list of location IDs.\n",
    "\n",
    "There's just one problem: by holding the two lists up side by side (your puzzle input), it quickly becomes clear that the lists aren't very similar. Maybe you can help The Historians reconcile their lists?\n",
    "\n",
    "For example:\n",
    "\n",
    "3   4\n",
    "4   3\n",
    "2   5\n",
    "1   3\n",
    "3   9\n",
    "3   3\n",
    "Maybe the lists are only off by a small amount! To find out, pair up the numbers and measure how far apart they are. Pair up the smallest number in the left list with the smallest number in the right list, then the second-smallest left number with the second-smallest right number, and so on.\n",
    "\n",
    "Within each pair, figure out how far apart the two numbers are; you'll need to add up all of those distances. For example, if you pair up a 3 from the left list with a 7 from the right list, the distance apart is 4; if you pair up a 9 with a 3, the distance apart is 6.\n",
    "\n",
    "In the example list above, the pairs and distances would be as follows:\n",
    "\n",
    "The smallest number in the left list is 1, and the smallest number in the right list is 3. The distance between them is 2.\n",
    "The second-smallest number in the left list is 2, and the second-smallest number in the right list is another 3. The distance between them is 1.\n",
    "The third-smallest number in both lists is 3, so the distance between them is 0.\n",
    "The next numbers to pair up are 3 and 4, a distance of 1.\n",
    "The fifth-smallest numbers in each list are 3 and 5, a distance of 2.\n",
    "Finally, the largest number in the left list is 4, while the largest number in the right list is 9; these are a distance 5 apart.\n",
    "To find the total distance between the left list and the right list, add up the distances between all of the pairs you found. In the example above, this is 2 + 1 + 0 + 1 + 2 + 5, a total distance of 11!\n",
    "\n",
    "Your actual left and right lists contain many location IDs. What is the total distance between your lists?"
   ]
  },
  {
   "cell_type": "code",
   "execution_count": null,
   "id": "4863db65",
   "metadata": {},
   "outputs": [
    {
     "data": {
      "text/plain": [
       "11"
      ]
     },
     "execution_count": 49,
     "metadata": {},
     "output_type": "execute_result"
    }
   ],
   "source": [
    "import numpy as np\n",
    "\n",
    "x = [3, 4, 2, 1, 3, 3]\n",
    "y = [4, 3, 5, 3, 9, 3]\n",
    "\n",
    "x.sort()\n",
    "y.sort()\n",
    "\n",
    "delta = list()\n",
    "\n",
    "for i in range(len(x)):\n",
    "    delta.append(np.abs(x[i] - y[i]))\n",
    "\n",
    "delta = np.array(delta)\n",
    "delta.sum()"
   ]
  },
  {
   "cell_type": "code",
   "execution_count": 50,
   "id": "0cac6d0a",
   "metadata": {},
   "outputs": [
    {
     "name": "stdout",
     "output_type": "stream",
     "text": [
      "Example:\n",
      "Left list: [3, 4, 2, 1, 3, 3]\n",
      "Right list: [4, 3, 5, 3, 9, 3]\n",
      "Total distance: 11\n",
      "\n",
      "Sorted left: [1, 2, 3, 3, 3, 4]\n",
      "Sorted right: [3, 3, 3, 4, 5, 9]\n",
      "\n",
      "Pairing and distances:\n",
      "Pair 1: 1 and 3 -> distance = 2\n",
      "Pair 2: 2 and 3 -> distance = 1\n",
      "Pair 3: 3 and 3 -> distance = 0\n",
      "Pair 4: 3 and 4 -> distance = 1\n",
      "Pair 5: 3 and 5 -> distance = 2\n",
      "Pair 6: 4 and 9 -> distance = 5\n",
      "\n",
      "Total: 11\n"
     ]
    }
   ],
   "source": [
    "# Solution to the Historian Hysteria Problem\n",
    "# The goal is to find the total distance between two lists by pairing up numbers\n",
    "# in sorted order and summing their absolute differences\n",
    "\n",
    "def calculate_total_distance(left_list, right_list):\n",
    "    \"\"\"\n",
    "    Calculate the total distance between two lists by pairing numbers in sorted order.\n",
    "    \n",
    "    Args:\n",
    "        left_list: List of numbers from the left column\n",
    "        right_list: List of numbers from the right column\n",
    "    \n",
    "    Returns:\n",
    "        Total distance (sum of absolute differences between paired numbers)\n",
    "    \"\"\"\n",
    "    # Sort both lists to pair smallest with smallest, etc.\n",
    "    sorted_left = sorted(left_list)\n",
    "    sorted_right = sorted(right_list)\n",
    "    \n",
    "    # Calculate absolute differences for each pair\n",
    "    total_distance = 0\n",
    "    for i in range(len(sorted_left)):\n",
    "        distance = abs(sorted_left[i] - sorted_right[i])\n",
    "        total_distance += distance\n",
    "    \n",
    "    return total_distance\n",
    "\n",
    "# Test with the example from the problem\n",
    "example_left = [3, 4, 2, 1, 3, 3]\n",
    "example_right = [4, 3, 5, 3, 9, 3]\n",
    "\n",
    "print(\"Example:\")\n",
    "print(f\"Left list: {example_left}\")\n",
    "print(f\"Right list: {example_right}\")\n",
    "print(f\"Total distance: {calculate_total_distance(example_left, example_right)}\")\n",
    "\n",
    "# Let's verify step by step:\n",
    "sorted_left = sorted(example_left)\n",
    "sorted_right = sorted(example_right)\n",
    "print(f\"\\nSorted left: {sorted_left}\")\n",
    "print(f\"Sorted right: {sorted_right}\")\n",
    "\n",
    "print(\"\\nPairing and distances:\")\n",
    "for i in range(len(sorted_left)):\n",
    "    distance = abs(sorted_left[i] - sorted_right[i])\n",
    "    print(f\"Pair {i+1}: {sorted_left[i]} and {sorted_right[i]} -> distance = {distance}\")\n",
    "\n",
    "print(f\"\\nTotal: {sum(abs(sorted_left[i] - sorted_right[i]) for i in range(len(sorted_left)))}\")\n"
   ]
  }
 ],
 "metadata": {
  "kernelspec": {
   "display_name": "Python 3",
   "language": "python",
   "name": "python3"
  },
  "language_info": {
   "codemirror_mode": {
    "name": "ipython",
    "version": 3
   },
   "file_extension": ".py",
   "mimetype": "text/x-python",
   "name": "python",
   "nbconvert_exporter": "python",
   "pygments_lexer": "ipython3",
   "version": "3.11.13"
  }
 },
 "nbformat": 4,
 "nbformat_minor": 5
}

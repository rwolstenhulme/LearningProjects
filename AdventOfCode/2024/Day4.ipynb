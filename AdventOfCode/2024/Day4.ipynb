{
 "cells": [
  {
   "cell_type": "markdown",
   "id": "efec0b13",
   "metadata": {},
   "source": [
    "--- Day 4: Ceres Search ---\n",
    "\n",
    "\"Looks like the Chief's not here. Next!\" One of The Historians pulls out a device and pushes the only button on it. After a brief flash, you recognize the interior of the Ceres monitoring station!\n",
    "\n",
    "As the search for the Chief continues, a small Elf who lives on the station tugs on your shirt; she'd like to know if you could help her with her word search (your puzzle input). She only has to find one word: XMAS.\n",
    "\n",
    "This word search allows words to be horizontal, vertical, diagonal, written backwards, or even overlapping other words. It's a little unusual, though, as you don't merely need to find one instance of XMAS - you need to find all of them. Here are a few ways XMAS might appear, where irrelevant characters have been replaced with .:\n",
    "\n",
    "..X...\n",
    ".SAMX.\n",
    ".A..A.\n",
    "XMAS.S\n",
    ".X....\n",
    "The actual word search will be full of letters instead. For example:\n",
    "\n",
    "MMMSXXMASM\n",
    "MSAMXMSMSA\n",
    "AMXSXMAAMM\n",
    "MSAMASMSMX\n",
    "XMASAMXAMM\n",
    "XXAMMXXAMA\n",
    "SMSMSASXSS\n",
    "SAXAMASAAA\n",
    "MAMMMXMMMM\n",
    "MXMXAXMASX\n",
    "In this word search, XMAS occurs a total of 18 times; here's the same word search again, but where letters not involved in any XMAS have been replaced with .:\n",
    "\n",
    "....XXMAS.\n",
    ".SAMXMS...\n",
    "...S..A...\n",
    "..A.A.MS.X\n",
    "XMASAMX.MM\n",
    "X.....XA.A\n",
    "S.S.S.S.SS\n",
    ".A.A.A.A.A\n",
    "..M.M.M.MM\n",
    ".X.X.XMASX\n",
    "Take a look at the little Elf's word search. How many times does XMAS appear?"
   ]
  },
  {
   "cell_type": "code",
   "execution_count": null,
   "id": "e1f17b2b",
   "metadata": {},
   "outputs": [
    {
     "name": "stdout",
     "output_type": "stream",
     "text": [
      "Word search grid:\n",
      "Row 0: ['M', 'M', 'M', 'S', 'X', 'X', 'M', 'A', 'S', 'M']\n",
      "Row 1: ['M', 'S', 'A', 'M', 'X', 'M', 'S', 'M', 'S', 'A']\n",
      "Row 2: ['A', 'M', 'X', 'S', 'X', 'M', 'A', 'A', 'M', 'M']\n",
      "Row 3: ['M', 'S', 'A', 'M', 'A', 'S', 'M', 'S', 'M', 'X']\n",
      "Row 4: ['X', 'M', 'A', 'S', 'A', 'M', 'X', 'A', 'M', 'M']\n",
      "Row 5: ['X', 'X', 'A', 'M', 'M', 'X', 'X', 'A', 'M', 'A']\n",
      "Row 6: ['S', 'M', 'S', 'M', 'S', 'A', 'S', 'X', 'S', 'S']\n",
      "Row 7: ['S', 'A', 'X', 'A', 'M', 'A', 'S', 'A', 'A', 'A']\n",
      "Row 8: ['M', 'A', 'M', 'M', 'M', 'X', 'M', 'M', 'M', 'M']\n",
      "Row 9: ['M', 'X', 'M', 'X', 'A', 'X', 'M', 'A', 'S', 'X']\n",
      "\n",
      "Grid dimensions: 10 x 10\n"
     ]
    }
   ],
   "source": [
    "# Create char array from the word search data\n",
    "word_search_data = [\n",
    "    \"MMMSXXMASM\",\n",
    "    \"MSAMXMSMSA\", \n",
    "    \"AMXSXMAAMM\",\n",
    "    \"MSAMASMSMX\",\n",
    "    \"XMASAMXAMM\",\n",
    "    \"XXAMMXXAMA\",\n",
    "    \"SMSMSASXSS\",\n",
    "    \"SAXAMASAAA\",\n",
    "    \"MAMMMXMMMM\",\n",
    "    \"MXMXAXMASX\"\n",
    "]\n",
    "\n",
    "# Convert to 2D char array\n",
    "grid = [list(row) for row in word_search_data]\n",
    "\n",
    "# Print the grid to verify\n",
    "print(\"Word search grid:\")\n",
    "for i, row in enumerate(grid):\n",
    "    print(f\"Row {i}: {row}\")\n",
    "\n",
    "print(f\"\\nGrid dimensions: {len(grid)} x {len(grid[0])}\")\n"
   ]
  },
  {
   "cell_type": "code",
   "execution_count": 47,
   "id": "29aecdd5",
   "metadata": {},
   "outputs": [
    {
     "name": "stdout",
     "output_type": "stream",
     "text": [
      "Total XMAS occurrences: 18\n"
     ]
    }
   ],
   "source": [
    "# Count occurrences of 'XMAS' in all 8 directions\n",
    "from typing import List, Tuple\n",
    "\n",
    "Grid = List[List[str]]\n",
    "\n",
    "DIRECTIONS: List[Tuple[int, int]] = [\n",
    "    (-1,  0),  # up\n",
    "    ( 1,  0),  # down\n",
    "    ( 0, -1),  # left\n",
    "    ( 0,  1),  # right\n",
    "    (-1, -1),  # up-left\n",
    "    (-1,  1),  # up-right\n",
    "    ( 1, -1),  # down-left\n",
    "    ( 1,  1),  # down-right\n",
    "]\n",
    "\n",
    "TARGET = \"XMAS\"\n",
    "\n",
    "\n",
    "def in_bounds(r: int, c: int, rows: int, cols: int) -> bool:\n",
    "    return 0 <= r < rows and 0 <= c < cols\n",
    "\n",
    "\n",
    "def count_word(grid: Grid, word: str = TARGET) -> int:\n",
    "    if not grid or not grid[0]:\n",
    "        return 0\n",
    "    rows, cols = len(grid), len(grid[0])\n",
    "    word_len = len(word)\n",
    "    total = 0\n",
    "\n",
    "    for r in range(rows):\n",
    "        for c in range(cols):\n",
    "            if grid[r][c] != word[0]:\n",
    "                continue\n",
    "            for dr, dc in DIRECTIONS:\n",
    "                rr, cc = r, c\n",
    "                matched = True\n",
    "                for k in range(1, word_len):\n",
    "                    rr += dr\n",
    "                    cc += dc\n",
    "                    if not in_bounds(rr, cc, rows, cols) or grid[rr][cc] != word[k]:\n",
    "                        matched = False\n",
    "                        break\n",
    "                if matched:\n",
    "                    total += 1\n",
    "    return total\n",
    "\n",
    "xmas_total = count_word(grid, \"XMAS\")\n",
    "print(f\"Total XMAS occurrences: {xmas_total}\")\n"
   ]
  }
 ],
 "metadata": {
  "kernelspec": {
   "display_name": "Python 3",
   "language": "python",
   "name": "python3"
  },
  "language_info": {
   "codemirror_mode": {
    "name": "ipython",
    "version": 3
   },
   "file_extension": ".py",
   "mimetype": "text/x-python",
   "name": "python",
   "nbconvert_exporter": "python",
   "pygments_lexer": "ipython3",
   "version": "3.11.13"
  }
 },
 "nbformat": 4,
 "nbformat_minor": 5
}

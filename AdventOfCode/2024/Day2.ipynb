{
 "cells": [
  {
   "cell_type": "markdown",
   "id": "329e06a5",
   "metadata": {},
   "source": [
    "--- Day 2: Red-Nosed Reports ---\n",
    "\n",
    "Fortunately, the first location The Historians want to search isn't a long walk from the Chief Historian's office.\n",
    "\n",
    "While the Red-Nosed Reindeer nuclear fusion/fission plant appears to contain no sign of the Chief Historian, the engineers there run up to you as soon as they see you. Apparently, they still talk about the time Rudolph was saved through molecular synthesis from a single electron.\n",
    "\n",
    "They're quick to add that - since you're already here - they'd really appreciate your help analyzing some unusual data from the Red-Nosed reactor. You turn to check if The Historians are waiting for you, but they seem to have already divided into groups that are currently searching every corner of the facility. You offer to help with the unusual data.\n",
    "\n",
    "The unusual data (your puzzle input) consists of many reports, one report per line. Each report is a list of numbers called levels that are separated by spaces. For example:\n",
    "\n",
    "7 6 4 2 1\n",
    "1 2 7 8 9\n",
    "9 7 6 2 1\n",
    "1 3 2 4 5\n",
    "8 6 4 4 1\n",
    "1 3 6 7 9\n",
    "This example data contains six reports each containing five levels.\n",
    "\n",
    "The engineers are trying to figure out which reports are safe. The Red-Nosed reactor safety systems can only tolerate levels that are either gradually increasing or gradually decreasing. So, a report only counts as safe if both of the following are true:\n",
    "\n",
    "The levels are either all increasing or all decreasing.\n",
    "Any two adjacent levels differ by at least one and at most three.\n",
    "In the example above, the reports can be found safe or unsafe by checking those rules:\n",
    "\n",
    "7 6 4 2 1: Safe because the levels are all decreasing by 1 or 2.\n",
    "1 2 7 8 9: Unsafe because 2 7 is an increase of 5.\n",
    "9 7 6 2 1: Unsafe because 6 2 is a decrease of 4.\n",
    "1 3 2 4 5: Unsafe because 1 3 is increasing but 3 2 is decreasing.\n",
    "8 6 4 4 1: Unsafe because 4 4 is neither an increase or a decrease.\n",
    "1 3 6 7 9: Safe because the levels are all increasing by 1, 2, or 3.\n",
    "So, in this example, 2 reports are safe.\n",
    "\n",
    "Analyze the unusual data from the engineers. How many reports are safe?"
   ]
  },
  {
   "cell_type": "code",
   "execution_count": 38,
   "id": "6cecd40a",
   "metadata": {},
   "outputs": [],
   "source": [
    "import numpy as np\n",
    "def check_level_safe(x):\n",
    "    cond1 = x == sorted(x,reverse=True) or x == sorted(x)\n",
    "    cond2 = max(abs(np.diff(x))) <= 3 and min(abs(np.diff(x))) >= 1\n",
    "    return cond1 and cond2\n"
   ]
  },
  {
   "cell_type": "code",
   "execution_count": 42,
   "id": "38b7032c",
   "metadata": {},
   "outputs": [
    {
     "data": {
      "text/plain": [
       "True"
      ]
     },
     "execution_count": 42,
     "metadata": {},
     "output_type": "execute_result"
    }
   ],
   "source": [
    "vector  = [7, 6, 4, 2, 1]\n",
    "vector2 = [1, 2, 7, 8, 9]\n",
    "vector3 = [9, 7, 6, 2, 1]\n",
    "vector4 = [1, 3, 2, 4, 5]\n",
    "vector5 = [8, 6, 4, 4, 1]\n",
    "vector6 = [1, 3, 6, 7, 9]\n",
    "\n",
    "check_level_safe(vector6)\n"
   ]
  },
  {
   "cell_type": "code",
   "execution_count": null,
   "id": "4b22a57f",
   "metadata": {},
   "outputs": [],
   "source": [
    "# Solution: count how many reports are safe\n",
    "\n",
    "def is_report_safe(levels):\n",
    "    \"\"\"Return True if levels are strictly monotonic (inc or dec) and all steps are 1..3.\"\"\"\n",
    "    if len(levels) < 2:\n",
    "        return True\n",
    "    deltas = [levels[i+1] - levels[i] for i in range(len(levels) - 1)]\n",
    "    # All increasing or all decreasing (strict; no zeros)\n",
    "    all_inc = all(d > 0 for d in deltas)\n",
    "    all_dec = all(d < 0 for d in deltas)\n",
    "    if not (all_inc or all_dec):\n",
    "        return False\n",
    "    # Each adjacent difference magnitude between 1 and 3 inclusive\n",
    "    return all(1 <= abs(d) <= 3 for d in deltas)\n",
    "\n",
    "\n",
    "def count_safe_reports(lines):\n",
    "    reports = [[int(x) for x in line.split()] for line in lines if line.strip()]\n",
    "    return sum(1 for r in reports if is_report_safe(r))\n",
    "\n",
    "# Example from the prompt\n",
    "example_lines = [\n",
    "    \"7 6 4 2 1\",\n",
    "    \"1 2 7 8 9\",\n",
    "    \"9 7 6 2 1\",\n",
    "    \"1 3 2 4 5\",\n",
    "    \"8 6 4 4 1\",\n",
    "    \"1 3 6 7 9\",\n",
    "]\n",
    "print(\"Example safe reports:\", count_safe_reports(example_lines))  # Expect 2\n",
    "\n",
    "# To solve your actual puzzle input:\n",
    "# - Paste the input as a multiline string into `puzzle_input` below and run the cell.\n",
    "# puzzle_input = \"\"\"\n",
    "# 7 6 4 2 1\n",
    "# 1 2 7 8 9\n",
    "# ...\n",
    "# \"\"\"\n",
    "# if 'puzzle_input' in globals():\n",
    "#     puzzle_lines = [line for line in puzzle_input.strip().splitlines()]\n",
    "#     print(\"Puzzle input safe reports:\", count_safe_reports(puzzle_lines))\n"
   ]
  }
 ],
 "metadata": {
  "kernelspec": {
   "display_name": "Python 3",
   "language": "python",
   "name": "python3"
  },
  "language_info": {
   "codemirror_mode": {
    "name": "ipython",
    "version": 3
   },
   "file_extension": ".py",
   "mimetype": "text/x-python",
   "name": "python",
   "nbconvert_exporter": "python",
   "pygments_lexer": "ipython3",
   "version": "3.11.13"
  }
 },
 "nbformat": 4,
 "nbformat_minor": 5
}

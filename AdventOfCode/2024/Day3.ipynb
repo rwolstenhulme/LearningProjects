{
 "cells": [
  {
   "cell_type": "markdown",
   "id": "de37000c",
   "metadata": {},
   "source": [
    "--- Day 3: Mull It Over ---\n",
    "\n",
    "\"Our computers are having issues, so I have no idea if we have any Chief Historians in stock! You're welcome to check the warehouse, though,\" says the mildly flustered shopkeeper at the North Pole Toboggan Rental Shop. The Historians head out to take a look.\n",
    "\n",
    "The shopkeeper turns to you. \"Any chance you can see why our computers are having issues again?\"\n",
    "\n",
    "The computer appears to be trying to run a program, but its memory (your puzzle input) is corrupted. All of the instructions have been jumbled up!\n",
    "\n",
    "It seems like the goal of the program is just to multiply some numbers. It does that with instructions like mul(X,Y), where X and Y are each 1-3 digit numbers. For instance, mul(44,46) multiplies 44 by 46 to get a result of 2024. Similarly, mul(123,4) would multiply 123 by 4.\n",
    "\n",
    "However, because the program's memory has been corrupted, there are also many invalid characters that should be ignored, even if they look like part of a mul instruction. Sequences like mul(4*, mul(6,9!, ?(12,34), or mul ( 2 , 4 ) do nothing.\n",
    "\n",
    "For example, consider the following section of corrupted memory:\n",
    "\n",
    "xmul(2,4)%&mul[3,7]!@^do_not_mul(5,5)+mul(32,64]then(mul(11,8)mul(8,5))\n",
    "Only the four highlighted sections are real mul instructions. Adding up the result of each instruction produces 161 (2*4 + 5*5 + 11*8 + 8*5).\n",
    "\n",
    "Scan the corrupted memory for uncorrupted mul instructions. What do you get if you add up all of the results of the multiplications?"
   ]
  },
  {
   "cell_type": "code",
   "execution_count": 42,
   "id": "99c745af",
   "metadata": {},
   "outputs": [],
   "source": [
    "import re\n",
    "\n",
    "def mul(x,y):\n",
    "    return x*y\n",
    "\n",
    "str = \"xmul(2,4)%&mul[3,7]!@^do_not_mul(5,5)+mul(32,64]then(mul(11,8)mul(8,5))\"\n",
    "values = re.findall('mul\\((\\\\d{1,3}),(\\\\d{1,3})\\)', str)\n",
    "\n",
    "total = sum(int(a)*int(b) for a,b in values)"
   ]
  },
  {
   "cell_type": "code",
   "execution_count": 26,
   "id": "ece375a6",
   "metadata": {},
   "outputs": [
    {
     "name": "stdout",
     "output_type": "stream",
     "text": [
      "Example total: 161\n"
     ]
    }
   ],
   "source": [
    "# Solution: scan memory for valid mul(X,Y) and sum X*Y\n",
    "import re\n",
    "\n",
    "pattern = re.compile(r\"mul\\((\\d{1,3}),(\\d{1,3})\\)\")\n",
    "\n",
    "\n",
    "def sum_mul_results(memory_text):\n",
    "    pairs = pattern.findall(memory_text)\n",
    "    return sum(int(a) * int(b) for a, b in pairs)\n",
    "\n",
    "# Example from prompt\n",
    "example = \"xmul(2,4)%&mul[3,7]!@^do_not_mul(5,5)+mul(32,64]then(mul(11,8)mul(8,5))\"\n",
    "print(\"Example total:\", sum_mul_results(example))  # Expect 161\n",
    "\n",
    "# To solve your actual puzzle input:\n",
    "# - Paste the input into `puzzle_input` below and run\n",
    "# puzzle_input = \"\"\"\n",
    "# ... your corrupted memory here ...\n",
    "# \"\"\"\n",
    "# if 'puzzle_input' in globals():\n",
    "#     print(\"Puzzle input total:\", sum_mul_results(puzzle_input))\n"
   ]
  },
  {
   "cell_type": "code",
   "execution_count": 38,
   "id": "8f049d34",
   "metadata": {},
   "outputs": [
    {
     "name": "stdout",
     "output_type": "stream",
     "text": [
      "[('2', '4'), ('5', '5'), ('11', '8'), ('8', '5')]\n"
     ]
    },
    {
     "data": {
      "text/plain": [
       "[('2', '4'), ('5', '5'), ('11', '8'), ('8', '5')]"
      ]
     },
     "execution_count": 38,
     "metadata": {},
     "output_type": "execute_result"
    }
   ],
   "source": [
    "print(re.findall('mul\\((\\\\d{1,3}),(\\\\d{1,3})\\)', str))\n",
    "re.findall(r\"mul\\((\\d{1,3}),(\\d{1,3})\\)\", str)"
   ]
  }
 ],
 "metadata": {
  "kernelspec": {
   "display_name": "Python 3",
   "language": "python",
   "name": "python3"
  },
  "language_info": {
   "codemirror_mode": {
    "name": "ipython",
    "version": 3
   },
   "file_extension": ".py",
   "mimetype": "text/x-python",
   "name": "python",
   "nbconvert_exporter": "python",
   "pygments_lexer": "ipython3",
   "version": "3.11.13"
  }
 },
 "nbformat": 4,
 "nbformat_minor": 5
}
